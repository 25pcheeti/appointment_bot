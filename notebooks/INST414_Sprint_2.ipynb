{
 "cells": [
  {
   "cell_type": "code",
   "execution_count": 1,
   "metadata": {},
   "outputs": [
    {
     "ename": "ModuleNotFoundError",
     "evalue": "No module named 'appointment_bot'",
     "output_type": "error",
     "traceback": [
      "\u001b[0;31m---------------------------------------------------------------------------\u001b[0m",
      "\u001b[0;31mModuleNotFoundError\u001b[0m                       Traceback (most recent call last)",
      "\u001b[0;32m<ipython-input-1-d26bf6bea459>\u001b[0m in \u001b[0;36m<module>\u001b[0;34m\u001b[0m\n\u001b[0;32m----> 1\u001b[0;31m \u001b[0;32mfrom\u001b[0m \u001b[0mappointment_bot\u001b[0m\u001b[0;34m.\u001b[0m\u001b[0mfeatures\u001b[0m\u001b[0;34m.\u001b[0m\u001b[0mbuild_features\u001b[0m \u001b[0;32mimport\u001b[0m \u001b[0mload_raw\u001b[0m\u001b[0;34m,\u001b[0m \u001b[0mpreprocess\u001b[0m\u001b[0;34m\u001b[0m\u001b[0;34m\u001b[0m\u001b[0m\n\u001b[0m\u001b[1;32m      2\u001b[0m \u001b[0;34m\u001b[0m\u001b[0m\n\u001b[1;32m      3\u001b[0m \u001b[0mdf_raw\u001b[0m \u001b[0;34m=\u001b[0m \u001b[0mload_raw\u001b[0m\u001b[0;34m(\u001b[0m\u001b[0;34m)\u001b[0m        \u001b[0;31m# reads data/raw/noshow.csv\u001b[0m\u001b[0;34m\u001b[0m\u001b[0;34m\u001b[0m\u001b[0m\n\u001b[1;32m      4\u001b[0m \u001b[0mdf\u001b[0m \u001b[0;34m=\u001b[0m \u001b[0mpreprocess\u001b[0m\u001b[0;34m(\u001b[0m\u001b[0mdf_raw\u001b[0m\u001b[0;34m)\u001b[0m    \u001b[0;31m# applies all cleaning and feature steps\u001b[0m\u001b[0;34m\u001b[0m\u001b[0;34m\u001b[0m\u001b[0m\n",
      "\u001b[0;31mModuleNotFoundError\u001b[0m: No module named 'appointment_bot'"
     ]
    }
   ],
   "source": [
    "from appointment_bot.features.build_features import load_raw, preprocess\n",
    "\n",
    "df_raw = load_raw()        # reads data/raw/noshow.csv\n",
    "df = preprocess(df_raw)    # applies all cleaning and feature steps\n"
   ]
  },
  {
   "cell_type": "code",
   "execution_count": null,
   "metadata": {
    "colab": {
     "base_uri": "https://localhost:8080/",
     "height": 1000
    },
    "id": "EpwQo1dvsQV3",
    "outputId": "112f62ed-2683-4f6d-d6cd-8e310dc64df5"
   },
   "outputs": [],
   "source": [
    "import matplotlib.pyplot as plt\n",
    "import seaborn as sns\n",
    "\n",
    "# Histogram of age\n",
    "df['Age'].hist()\n",
    "plt.title('Distribution of Age')\n",
    "plt.show()\n",
    "\n",
    "# Bar plot of gender\n",
    "df['Gender'].value_counts().plot(kind='bar')\n",
    "plt.title('Gender Distribution')\n",
    "plt.show()\n",
    "\n",
    "# Bar plot of SMS_received\n",
    "df['SMS_received'].value_counts().plot(kind='bar')\n",
    "plt.title('SMS Received Distribution')\n",
    "plt.show()\n",
    "\n",
    "# Bar plot of no-show\n",
    "df['No-show'].value_counts().plot(kind='bar')\n",
    "plt.title('No-Show Distribution')\n",
    "plt.show()\n",
    "\n",
    "# Box plot of lead_time_days by no-show\n",
    "sns.boxplot(x='No-show', y='lead_time_days', data=df)\n",
    "plt.title('Lead Time by No-Show Status')\n",
    "plt.show()\n",
    "\n",
    "# Extract day of the week\n",
    "df['appointment_day_of_week'] = df['AppointmentDay'].dt.day_name()\n",
    "\n",
    "# No-show rates by day of the week\n",
    "no_show_by_day = df.groupby('appointment_day_of_week')['No-show'].mean()\n",
    "no_show_by_day.sort_values().plot(kind='bar')\n",
    "plt.title('No-Show Rates by Day of the Week')\n",
    "plt.show()\n",
    "\n",
    "# Extract hour of the day\n",
    "df['appointment_hour'] = df['AppointmentDay'].dt.hour\n",
    "\n",
    "# No-show rates by hour\n",
    "no_show_by_hour = df.groupby('appointment_hour')['No-show'].mean()\n",
    "no_show_by_hour.sort_index().plot()\n",
    "plt.title('No-Show Rates by Hour of the Day')\n",
    "plt.show()"
   ]
  },
  {
   "cell_type": "code",
   "execution_count": null,
   "metadata": {
    "id": "fMVdtABIwD33"
   },
   "outputs": [],
   "source": [
    "df['is_weekend'] = df['AppointmentDay'].dt.dayofweek.isin([5,6]).astype(int)\n",
    "df['time_of_day'] = df['appointment_hour'].apply(lambda x: 'morning' if 6<=x<12 else 'afternoon' if 12<=x<18 else 'evening' if 18<=x<24 else 'night')\n",
    "bins = [0, 18, 65, 100]\n",
    "labels = ['young', 'adult', 'senior']\n",
    "df['age_group'] = pd.cut(df['Age'], bins=bins, labels=labels)\n",
    "\n",
    "# One-hot encode categorical variables\n",
    "day_dummies = pd.get_dummies(df['appointment_day_of_week'], prefix='day')\n",
    "time_dummies = pd.get_dummies(df['time_of_day'], prefix='time')\n",
    "age_group_dummies = pd.get_dummies(df['age_group'], prefix='age_group')\n",
    "\n",
    "df = pd.concat([df, day_dummies, time_dummies, age_group_dummies], axis=1)"
   ]
  },
  {
   "cell_type": "code",
   "execution_count": null,
   "metadata": {
    "colab": {
     "base_uri": "https://localhost:8080/"
    },
    "id": "m6qU6CScwG-2",
    "outputId": "091de5b0-98c6-4731-8495-6bac712bb663"
   },
   "outputs": [],
   "source": [
    "from sklearn.model_selection import train_test_split, cross_val_score\n",
    "from sklearn.linear_model import LogisticRegression\n",
    "from sklearn.ensemble import RandomForestClassifier\n",
    "\n",
    "# Select features and target\n",
    "features = ['Gender', 'Age', 'SMS_received', 'lead_time_days', 'is_weekend'] + list(day_dummies.columns) + list(time_dummies.columns) + list(age_group_dummies.columns)\n",
    "X = df[features]\n",
    "y = df['No-show']\n",
    "\n",
    "# Split data\n",
    "X_train, X_test, y_train, y_test = train_test_split(X, y, test_size=0.2, random_state=42)\n",
    "\n",
    "# Logistic Regression\n",
    "logreg = LogisticRegression()\n",
    "logreg_scores = cross_val_score(logreg, X, y, cv=5, scoring='accuracy')\n",
    "print(f\"Logistic Regression Accuracy: {logreg_scores.mean():.2f} ± {logreg_scores.std():.2f}\")\n",
    "\n",
    "# Random Forest\n",
    "rf = RandomForestClassifier(n_estimators=100, random_state=42)\n",
    "rf_scores = cross_val_score(rf, X, y, cv=5, scoring='accuracy')\n",
    "print(f\"Random Forest Accuracy: {rf_scores.mean():.2f} ± {rf_scores.std():.2f}\")"
   ]
  },
  {
   "cell_type": "code",
   "execution_count": null,
   "metadata": {
    "colab": {
     "base_uri": "https://localhost:8080/"
    },
    "id": "Nx3LGXR2wa50",
    "outputId": "9503b37d-6a69-46e3-980a-f92fdd87c06b"
   },
   "outputs": [],
   "source": [
    "from sklearn.metrics import confusion_matrix, precision_score, recall_score, f1_score\n",
    "\n",
    "# Train models\n",
    "logreg.fit(X_train, y_train)\n",
    "rf.fit(X_train, y_train)\n",
    "\n",
    "# Predict on test set\n",
    "y_pred_logreg = logreg.predict(X_test)\n",
    "y_pred_rf = rf.predict(X_test)\n",
    "\n",
    "# Confusion matrices\n",
    "print(\"Logistic Regression Confusion Matrix:\\n\", confusion_matrix(y_test, y_pred_logreg))\n",
    "print(\"Random Forest Confusion Matrix:\\n\", confusion_matrix(y_test, y_pred_rf))\n",
    "\n",
    "# Other metrics\n",
    "print(\"Logistic Regression Precision:\", precision_score(y_test, y_pred_logreg))\n",
    "print(\"Logistic Regression Recall:\", recall_score(y_test, y_pred_logreg))\n",
    "print(\"Logistic Regression F1 Score:\", f1_score(y_test, y_pred_logreg))\n",
    "\n",
    "print(\"Random Forest Precision:\", precision_score(y_test, y_pred_rf))\n",
    "print(\"Random Forest Recall:\", recall_score(y_test, y_pred_rf))\n",
    "print(\"Random Forest F1 Score:\", f1_score(y_test, y_pred_rf))"
   ]
  }
 ],
 "metadata": {
  "colab": {
   "provenance": []
  },
  "kernelspec": {
   "display_name": "Python 3",
   "language": "python",
   "name": "python3"
  },
  "language_info": {
   "codemirror_mode": {
    "name": "ipython",
    "version": 3
   },
   "file_extension": ".py",
   "mimetype": "text/x-python",
   "name": "python",
   "nbconvert_exporter": "python",
   "pygments_lexer": "ipython3",
   "version": "3.8.8"
  }
 },
 "nbformat": 4,
 "nbformat_minor": 4
}
